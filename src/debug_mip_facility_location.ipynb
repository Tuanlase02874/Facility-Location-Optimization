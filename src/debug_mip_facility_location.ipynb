{
 "cells": [
  {
   "cell_type": "code",
   "execution_count": 1,
   "metadata": {
    "collapsed": false
   },
   "outputs": [
    {
     "ename": "ImportError",
     "evalue": "No module named 'ppt'",
     "output_type": "error",
     "traceback": [
      "\u001b[0;31m---------------------------------------------------------------------------\u001b[0m",
      "\u001b[0;31mImportError\u001b[0m                               Traceback (most recent call last)",
      "\u001b[0;32m<ipython-input-1-fe7a4922cd55>\u001b[0m in \u001b[0;36m<module>\u001b[0;34m()\u001b[0m\n\u001b[0;32m----> 1\u001b[0;31m \u001b[0;32mimport\u001b[0m \u001b[0mppt\u001b[0m\u001b[0;34m\u001b[0m\u001b[0m\n\u001b[0m\u001b[1;32m      2\u001b[0m \u001b[0;32mdef\u001b[0m \u001b[0mread_data\u001b[0m\u001b[0;34m(\u001b[0m\u001b[0mfname\u001b[0m\u001b[0;34m=\u001b[0m\u001b[0mFILE_NAME\u001b[0m\u001b[0;34m)\u001b[0m\u001b[0;34m:\u001b[0m\u001b[0;34m\u001b[0m\u001b[0m\n\u001b[1;32m      3\u001b[0m \u001b[0;34m\u001b[0m\u001b[0m\n\u001b[1;32m      4\u001b[0m     \u001b[0mtheta\u001b[0m\u001b[0;34m=\u001b[0m\u001b[0;34m[\u001b[0m\u001b[0;34m]\u001b[0m\u001b[0;34m\u001b[0m\u001b[0m\n\u001b[1;32m      5\u001b[0m     \u001b[0mpermutations\u001b[0m\u001b[0;34m=\u001b[0m\u001b[0;34m[\u001b[0m\u001b[0;34m]\u001b[0m\u001b[0;34m\u001b[0m\u001b[0m\n",
      "\u001b[0;31mImportError\u001b[0m: No module named 'ppt'"
     ]
    }
   ],
   "source": [
    "import ppt\n",
    "def read_data(fname=FILE_NAME):\n",
    "\n",
    "    theta=[]\n",
    "    permutations=[]\n",
    "\n",
    "    fdata = open(fname,'r')\n",
    "\n",
    "    (NUMBER_COMPETITOR, I, J, K) = [int(a) for a in fdata.readline().strip().split(\"\\t\")[1].replace(\"(\",\"\").replace(\")\",\"\").split(',')]\n",
    "    print((NUMBER_COMPETITOR, I, J, K))\n",
    "\n",
    "    competitor = fdata.readline().strip().split(\"\\t\")[1:]\n",
    "    print(competitor)\n",
    "\n",
    "    for k in range(K):\n",
    "        permutation = fdata.readline().strip().split(\"\\t\")[1:]\n",
    "        permutations.append(permutation)\n",
    "    pprint.pprint(permutations)\n",
    "\n",
    "    for i in range(I):\n",
    "        theta_i = fdata.readline().strip().split(\"\\t\")[1:]\n",
    "        theta.append(theta_i)\n",
    "    print(theta[2][3])\n",
    "\n",
    "    return (competitor,theta,permutations)\n",
    "\n",
    "(competitor,theta,permutations) = read_data()"
   ]
  },
  {
   "cell_type": "code",
   "execution_count": null,
   "metadata": {
    "collapsed": true
   },
   "outputs": [],
   "source": []
  }
 ],
 "metadata": {
  "kernelspec": {
   "display_name": "Python 3",
   "language": "python",
   "name": "python3"
  },
  "language_info": {
   "codemirror_mode": {
    "name": "ipython",
    "version": 3
   },
   "file_extension": ".py",
   "mimetype": "text/x-python",
   "name": "python",
   "nbconvert_exporter": "python",
   "pygments_lexer": "ipython3",
   "version": "3.5.2"
  }
 },
 "nbformat": 4,
 "nbformat_minor": 2
}
