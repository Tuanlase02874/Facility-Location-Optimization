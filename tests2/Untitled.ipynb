{
 "cells": [
  {
   "cell_type": "code",
   "execution_count": 2,
   "metadata": {
    "collapsed": false
   },
   "outputs": [
    {
     "name": "stdout",
     "output_type": "stream",
     "text": [
      "[[1, 1], [3, 1], [3, 2], [3, 3], [1, 3], [2, 5], [1, 5], [-1, -1], [-1, -2], [-2, -3], [-4, -4]]\n"
     ]
    }
   ],
   "source": [
    "points = [[1, 1], [3, 1], [3, 2], [3, 3],[1, 3], [2, 5], [1, 5], [-1, -1],[-1, -2], [-2, -3], [-4, -4]]\n",
    "print(points)"
   ]
  },
  {
   "cell_type": "code",
   "execution_count": 4,
   "metadata": {
    "collapsed": false
   },
   "outputs": [
    {
     "name": "stdout",
     "output_type": "stream",
     "text": [
      "[[0.7071067811865475, 0.7071067811865475], [0.9486832980505138, 0.31622776601683794], [0.8320502943378437, 0.5547001962252291], [0.7071067811865476, 0.7071067811865476], [0.31622776601683794, 0.9486832980505138], [0.3713906763541037, 0.9284766908852594], [0.19611613513818404, 0.9805806756909202], [-0.7071067811865475, -0.7071067811865475], [-0.4472135954999579, -0.8944271909999159], [-0.5547001962252291, -0.8320502943378437], [-0.7071067811865475, -0.7071067811865475]]\n"
     ]
    }
   ],
   "source": [
    "import math\n",
    "\n",
    "n_point = []\n",
    "for [a,b] in points:\n",
    "    c = math.sqrt(a**2 + b**2)\n",
    "    n_p = [float(a)/c,float(b)/c]\n",
    "    n_point.append(n_p)\n",
    "print(n_point)"
   ]
  },
  {
   "cell_type": "code",
   "execution_count": 18,
   "metadata": {
    "collapsed": false
   },
   "outputs": [
    {
     "name": "stdout",
     "output_type": "stream",
     "text": [
      "4\n"
     ]
    },
    {
     "name": "stderr",
     "output_type": "stream",
     "text": [
      "/Users/mac/anaconda/envs/py34/lib/python3.5/site-packages/ipykernel/__main__.py:11: RuntimeWarning: divide by zero encountered in double_scalars\n"
     ]
    }
   ],
   "source": [
    "import numpy as np\n",
    "n = len(n_point)\n",
    "(w, h) = (n, n)\n",
    "A = [[0 for x in range(w)] for y in range(h)] \n",
    "for i in range(n):\n",
    "    x = np.array(n_point[i])\n",
    "    for j in range(n):\n",
    "        y = np.array(n_point[j])\n",
    "        cos_d = np.dot(x,y)\n",
    "        sin_d = np.cross(x,y)\n",
    "        tan_ij = cos_d/sin_d\n",
    "        if tan_ij >= 0 and tan_ij <= 1:\n",
    "            A[i][j] = 1\n",
    "num_in = []\n",
    "for i in range(n):\n",
    "    num_in.append(sum(A[i][:]))\n",
    "print(max(num_in))"
   ]
  },
  {
   "cell_type": "code",
   "execution_count": 19,
   "metadata": {
    "collapsed": false
   },
   "outputs": [
    {
     "name": "stdout",
     "output_type": "stream",
     "text": [
      "4\n"
     ]
    },
    {
     "name": "stderr",
     "output_type": "stream",
     "text": [
      "/Users/mac/anaconda/envs/py34/lib/python3.5/site-packages/ipykernel/__main__.py:19: RuntimeWarning: divide by zero encountered in double_scalars\n"
     ]
    }
   ],
   "source": [
    "import math\n",
    "import numpy as np\n",
    "def number_in_angle(points):\n",
    "    n_point = []\n",
    "    for [a,b] in points:\n",
    "        c = math.sqrt(a**2 + b**2)\n",
    "        n_p = [float(a)/c,float(b)/c]\n",
    "        n_point.append(n_p)\n",
    "        \n",
    "    n = len(n_point)\n",
    "    (w, h) = (n, n)\n",
    "    A = [[0 for x in range(w)] for y in range(h)] \n",
    "    for i in range(n):\n",
    "        x = np.array(n_point[i])\n",
    "        for j in range(n):\n",
    "            y = np.array(n_point[j])\n",
    "            cos_d = np.dot(x,y)\n",
    "            sin_d = np.cross(x,y)\n",
    "            tan_ij = cos_d/sin_d\n",
    "            if tan_ij >= 0 and tan_ij <= 1:\n",
    "                A[i][j] = 1\n",
    "    num_in = []\n",
    "    for i in range(n):\n",
    "        num_in.append(sum(A[i][:]))\n",
    "    return max(num_in)\n",
    "\n",
    "points = [[1, 1], [3, 1], [3, 2], [3, 3],[1, 3], [2, 5], [1, 5], [-1, -1],[-1, -2], [-2, -3], [-4, -4]]\n",
    "\n",
    "print(number_in_angle(points))\n",
    "    "
   ]
  },
  {
   "cell_type": "code",
   "execution_count": null,
   "metadata": {
    "collapsed": true
   },
   "outputs": [],
   "source": []
  }
 ],
 "metadata": {
  "kernelspec": {
   "display_name": "Python 3",
   "language": "python",
   "name": "python3"
  },
  "language_info": {
   "codemirror_mode": {
    "name": "ipython",
    "version": 3
   },
   "file_extension": ".py",
   "mimetype": "text/x-python",
   "name": "python",
   "nbconvert_exporter": "python",
   "pygments_lexer": "ipython3",
   "version": "3.5.2"
  }
 },
 "nbformat": 4,
 "nbformat_minor": 2
}
